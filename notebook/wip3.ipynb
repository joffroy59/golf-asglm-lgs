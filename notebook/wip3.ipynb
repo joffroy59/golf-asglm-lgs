{
 "cells": [
  {
   "cell_type": "code",
   "execution_count": 1,
   "metadata": {},
   "outputs": [],
   "source": [
    "import pandas as pd\n"
   ]
  },
  {
   "cell_type": "code",
   "execution_count": 2,
   "metadata": {},
   "outputs": [
    {
     "name": "stderr",
     "output_type": "stream",
     "text": [
      "d:\\dev\\miniconda3\\Lib\\site-packages\\openpyxl\\styles\\stylesheet.py:237: UserWarning: Workbook contains no default style, apply openpyxl's default\n",
      "  warn(\"Workbook contains no default style, apply openpyxl's default\")\n"
     ]
    }
   ],
   "source": [
    "# exportRms_file_path = \"C:\\\\dev-data\\\\golf\\\\ASGLM LGS\\\\LGS_Application\\\\exrtractCsv\\\\DIMANCHE 13, 18 TROUS GRANDE SEMAINE\\\\\\\\2d. Extraction XLS globale.xlsx\"\n",
    "exportRms_file_path = \"C:\\\\dev-data\\\\golf\\\\ASGLM LGS\\\\LGS_Application\\\\exrtractCsv\\\\simplname.xlsx\"\n",
    "\n",
    "try:\n",
    "    df = pd.read_excel(exportRms_file_path,engine=\"openpyxl\")\n",
    "    # df.head()\n",
    "except Exception as ex:\n",
    "    print(ex)"
   ]
  },
  {
   "cell_type": "code",
   "execution_count": 3,
   "metadata": {},
   "outputs": [],
   "source": [
    "import json\n",
    "\n",
    "\n",
    "header_line = df.iloc[0]\n",
    "\n",
    "export_descr = {\n",
    "    \"name\": { \"value\": header_line['Nom competition'] , \"idx\":  df.columns.get_loc('Nom competition')},\n",
    "    \"date\": { \"value\": header_line['Date'] , \"idx\":  df.columns.get_loc('Date')},\n",
    "    \"tour\": { \"value\": header_line['Tour'] , \"idx\":  df.columns.get_loc('Tour') },\n",
    "\n",
    "    \"comp_type\": { \"value\": df[df['Calcul'] != 'Calcul']['Calcul'].unique() , \"idx\":  df.columns.get_loc('Calcul')},\n",
    "    \"comp_score_type\": { \"value\": df[df['Brut / net'] != 'Brut / net']['Brut / net'].unique() , \"idx\":  df.columns.get_loc('Brut / net')},\n",
    "    \"scrore_type\": { \"value\": df[df['Calcul'] != 'Calcul']['Calcul'].unique() , \"idx\":  df.columns.get_loc('Calcul')},\n",
    "}\n",
    "\n",
    "# print(\"Export Desc : \", export_descr)\n",
    "\n",
    "stats = {\n",
    "        \"count\": {\n",
    "            \"header\" : df['Nom competition'].value_counts()['Nom competition'],\n",
    "            \"player_count\" : df['Nom competition'].value_counts()[export_descr[\"name\"][\"value\"]]\n",
    "        }\n",
    "}\n",
    "\n",
    "# print(\"Export Desc : \", stats)\n",
    "\n",
    "# print(\"Competition name : \", export_descr['name'].get(\"value\"))\n",
    "# print(\"Competition type : \", export_descr['comp_type'].get(\"value\"))\n"
   ]
  },
  {
   "cell_type": "markdown",
   "metadata": {},
   "source": [
    "Stats"
   ]
  },
  {
   "cell_type": "code",
   "execution_count": 4,
   "metadata": {},
   "outputs": [],
   "source": [
    "result_list = df[df['Nom competition'] != 'Nom competition']\n",
    "\n"
   ]
  },
  {
   "cell_type": "code",
   "execution_count": 5,
   "metadata": {},
   "outputs": [],
   "source": [
    "\n",
    "# json_result_list = result_list.to_json()\n",
    "# print(pd.read_json(json_result_list))"
   ]
  },
  {
   "cell_type": "code",
   "execution_count": 6,
   "metadata": {},
   "outputs": [
    {
     "name": "stdout",
     "output_type": "stream",
     "text": [
      "{'all': {'brut': 93, 'net': 93, 'all': 186}, 'man': {'brut': 93, 'net': 93, 'all': 186}, 'woman': {'brut': 93, 'net': 93, 'all': 186}}\n"
     ]
    }
   ],
   "source": [
    "df_brut = df[df['Brut / net'] == 'Brut']\n",
    "df_net = df[df['Brut / net'] == 'Net']\n",
    "\n",
    "count = {\n",
    "    \"all\": {\n",
    "        \"brut\": df_brut.shape[0],\n",
    "        \"net\": df_net.shape[0],\n",
    "        \"all\" : stats[\"count\"][\"player_count\"]\n",
    "    },\n",
    "    \"man\": {\n",
    "        \"brut\": df_brut.shape[0],\n",
    "        \"net\": df_net.shape[0],\n",
    "        \"all\" : stats[\"count\"][\"player_count\"]\n",
    "    },\n",
    "    \"woman\": {\n",
    "        \"brut\": df_brut.shape[0],\n",
    "        \"net\":  df_net.shape[0],\n",
    "        \"all\" : stats[\"count\"][\"player_count\"]\n",
    "    }\n",
    "}\n",
    "\n",
    "print(count) # Transpose the DataFrame for better readability.\n"
   ]
  },
  {
   "cell_type": "code",
   "execution_count": 7,
   "metadata": {},
   "outputs": [],
   "source": [
    "series={\n",
    "    \"man\": {\n",
    "        \"Serie1\": {\"min\": -30, \"max\": 11.4},\n",
    "        \"Serie2\": {\"min\": 11.5, \"max\": 18.4},\n",
    "        \"Serie3\": {\"min\": 18.5, \"max\": 25.4},\n",
    "        \"Serie4\": {\"min\": 25.5, \"max\": 54}\n",
    "    },\n",
    "    \"woman\": {\n",
    "        \"Serie1\": {\"min\": -30, \"max\": 11.4},\n",
    "        \"Serie2\": {\"min\": 11.5, \"max\": 18.4},\n",
    "        \"Serie3\": {\"min\": 18.5, \"max\": 25.4},\n",
    "        \"Serie4\": {\"min\": 25.5, \"max\": 54}\n",
    "    }\n",
    "}"
   ]
  },
  {
   "cell_type": "code",
   "execution_count": 12,
   "metadata": {},
   "outputs": [
    {
     "name": "stderr",
     "output_type": "stream",
     "text": [
      "C:\\Users\\jerom\\AppData\\Local\\Temp\\ipykernel_33536\\4043640370.py:4: SettingWithCopyWarning: \n",
      "A value is trying to be set on a copy of a slice from a DataFrame.\n",
      "Try using .loc[row_indexer,col_indexer] = value instead\n",
      "\n",
      "See the caveats in the documentation: https://pandas.pydata.org/pandas-docs/stable/user_guide/indexing.html#returning-a-view-versus-a-copy\n",
      "  filtered_man['Index Cpt'] = filtered_man['Index Cpt'].str.replace(',', '.').astype(float)\n",
      "C:\\Users\\jerom\\AppData\\Local\\Temp\\ipykernel_33536\\4043640370.py:5: SettingWithCopyWarning: \n",
      "A value is trying to be set on a copy of a slice from a DataFrame.\n",
      "Try using .loc[row_indexer,col_indexer] = value instead\n",
      "\n",
      "See the caveats in the documentation: https://pandas.pydata.org/pandas-docs/stable/user_guide/indexing.html#returning-a-view-versus-a-copy\n",
      "  filtered_woman['Index Cpt'] = filtered_woman['Index Cpt'].str.replace(',', '.').astype(float)\n",
      "C:\\Users\\jerom\\AppData\\Local\\Temp\\ipykernel_33536\\4043640370.py:15: SettingWithCopyWarning: \n",
      "A value is trying to be set on a copy of a slice from a DataFrame.\n",
      "Try using .loc[row_indexer,col_indexer] = value instead\n",
      "\n",
      "See the caveats in the documentation: https://pandas.pydata.org/pandas-docs/stable/user_guide/indexing.html#returning-a-view-versus-a-copy\n",
      "  filtered_man_brut['Index Cpt'] = filtered_man_brut['Index Cpt'].str.replace(',', '.').astype(float)\n",
      "C:\\Users\\jerom\\AppData\\Local\\Temp\\ipykernel_33536\\4043640370.py:18: UserWarning: Boolean Series key will be reindexed to match DataFrame index.\n",
      "  filtered_man_brut_S1 = current_filtered[(filtered_man['Index Cpt'] >= series['man']['Serie1']['min']) & (current_filtered['Index Cpt'] <= series['man']['Serie1']['max'])]\n",
      "C:\\Users\\jerom\\AppData\\Local\\Temp\\ipykernel_33536\\4043640370.py:19: UserWarning: Boolean Series key will be reindexed to match DataFrame index.\n",
      "  filtered_man_brut_S2 = current_filtered[(filtered_man['Index Cpt'] >= series['man']['Serie2']['min']) & (current_filtered['Index Cpt'] <= series['man']['Serie2']['max'])]\n",
      "C:\\Users\\jerom\\AppData\\Local\\Temp\\ipykernel_33536\\4043640370.py:20: UserWarning: Boolean Series key will be reindexed to match DataFrame index.\n",
      "  filtered_man_brut_S3 = current_filtered[(filtered_man['Index Cpt'] >= series['man']['Serie3']['min']) & (current_filtered['Index Cpt'] <= series['man']['Serie3']['max'])]\n",
      "C:\\Users\\jerom\\AppData\\Local\\Temp\\ipykernel_33536\\4043640370.py:21: UserWarning: Boolean Series key will be reindexed to match DataFrame index.\n",
      "  filtered_man_brut_S4 = current_filtered[(filtered_man['Index Cpt'] >= series['man']['Serie4']['min']) & (current_filtered['Index Cpt'] <= series['man']['Serie4']['max'])]\n"
     ]
    }
   ],
   "source": [
    "filtered_man = df[df['Sexe'] == 'Messieurs']\n",
    "filtered_woman = df[df['Sexe'] == 'Dames']\n",
    "\n",
    "filtered_man['Index Cpt'] = filtered_man['Index Cpt'].str.replace(',', '.').astype(float)\n",
    "filtered_woman['Index Cpt'] = filtered_woman['Index Cpt'].str.replace(',', '.').astype(float)\n",
    "\n",
    "current_filtered = filtered_man\n",
    "filtered_man_S1 = current_filtered[(filtered_man['Index Cpt'] >= series['man']['Serie1']['min']) & (current_filtered['Index Cpt'] <= series['man']['Serie1']['max'])]\n",
    "filtered_man_S2 = current_filtered[(filtered_man['Index Cpt'] >= series['man']['Serie2']['min']) & (current_filtered['Index Cpt'] <= series['man']['Serie2']['max'])]\n",
    "filtered_man_S3 = current_filtered[(filtered_man['Index Cpt'] >= series['man']['Serie3']['min']) & (current_filtered['Index Cpt'] <= series['man']['Serie3']['max'])]\n",
    "filtered_man_S4 = current_filtered[(filtered_man['Index Cpt'] >= series['man']['Serie4']['min']) & (current_filtered['Index Cpt'] <= series['man']['Serie4']['max'])]\n",
    "\n",
    "\n",
    "filtered_man_brut = df_brut[df_brut['Sexe'] == 'Messieurs']\n",
    "filtered_man_brut['Index Cpt'] = filtered_man_brut['Index Cpt'].str.replace(',', '.').astype(float)\n",
    "\n",
    "current_filtered = filtered_man_brut\n",
    "filtered_man_brut_S1 = current_filtered[(filtered_man['Index Cpt'] >= series['man']['Serie1']['min']) & (current_filtered['Index Cpt'] <= series['man']['Serie1']['max'])]\n",
    "filtered_man_brut_S2 = current_filtered[(filtered_man['Index Cpt'] >= series['man']['Serie2']['min']) & (current_filtered['Index Cpt'] <= series['man']['Serie2']['max'])]\n",
    "filtered_man_brut_S3 = current_filtered[(filtered_man['Index Cpt'] >= series['man']['Serie3']['min']) & (current_filtered['Index Cpt'] <= series['man']['Serie3']['max'])]\n",
    "filtered_man_brut_S4 = current_filtered[(filtered_man['Index Cpt'] >= series['man']['Serie4']['min']) & (current_filtered['Index Cpt'] <= series['man']['Serie4']['max'])]\n"
   ]
  }
 ],
 "metadata": {
  "kernelspec": {
   "display_name": "Python 3",
   "language": "python",
   "name": "python3"
  },
  "language_info": {
   "codemirror_mode": {
    "name": "ipython",
    "version": 3
   },
   "file_extension": ".py",
   "mimetype": "text/x-python",
   "name": "python",
   "nbconvert_exporter": "python",
   "pygments_lexer": "ipython3",
   "version": "3.12.2"
  }
 },
 "nbformat": 4,
 "nbformat_minor": 2
}
