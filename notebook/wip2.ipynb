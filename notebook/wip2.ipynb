{
 "cells": [
  {
   "cell_type": "code",
   "execution_count": 2,
   "metadata": {},
   "outputs": [],
   "source": [
    "import pandas as pd\n"
   ]
  },
  {
   "cell_type": "code",
   "execution_count": 11,
   "metadata": {},
   "outputs": [
    {
     "name": "stderr",
     "output_type": "stream",
     "text": [
      "d:\\dev\\miniconda3\\Lib\\site-packages\\openpyxl\\styles\\stylesheet.py:237: UserWarning: Workbook contains no default style, apply openpyxl's default\n",
      "  warn(\"Workbook contains no default style, apply openpyxl's default\")\n"
     ]
    }
   ],
   "source": [
    "# exportRms_file_path = \"C:\\\\dev-data\\\\golf\\\\ASGLM LGS\\\\LGS_Application\\\\exrtractCsv\\\\DIMANCHE 13, 18 TROUS GRANDE SEMAINE\\\\\\\\2d. Extraction XLS globale.xlsx\"\n",
    "exportRms_file_path = \"C:\\\\dev-data\\\\golf\\\\ASGLM LGS\\\\LGS_Application\\\\exrtractCsv\\\\simplname.xlsx\"\n",
    "\n",
    "try:\n",
    "    df = pd.read_excel(exportRms_file_path,engine=\"openpyxl\")\n",
    "    # df.head()\n",
    "except Exception as ex:\n",
    "    print(ex)"
   ]
  },
  {
   "cell_type": "code",
   "execution_count": 12,
   "metadata": {},
   "outputs": [],
   "source": [
    "df = df.sort_index()\n",
    "\n"
   ]
  },
  {
   "cell_type": "code",
   "execution_count": 13,
   "metadata": {},
   "outputs": [
    {
     "name": "stdout",
     "output_type": "stream",
     "text": [
      "Competition name :  {'name': {'value': 'DIMANCHE 13, 18 TROUS GRANDE SEMAINE', 'idx': 0}, 'comp_type': {'value': array(['Stroke play', 'Score maximum'], dtype=object), 'idx': 0}, 'scrore_type': {'value': array(['Stroke play', 'Score maximum'], dtype=object), 'idx': 0}}\n",
      "Competition name :  DIMANCHE 13, 18 TROUS GRANDE SEMAINE\n",
      "Competition type :  ['Stroke play' 'Score maximum']\n"
     ]
    }
   ],
   "source": [
    "competion_name = df.at[1, 'Nom competition']\n",
    "\n",
    "first_row = df.iloc[0]\n",
    "\n",
    "index_col = 'index'\n",
    "columns_to_compare = df.columns.difference([index_col])\n",
    "duplicated_headers = df.duplicated(subset=columns_to_compare)\n",
    "esport_clean = df[~duplicated_headers]\n",
    "\n",
    "\n",
    "# duplicated_headers = df.apply(lambda row: row.equals(first_row), axis=1)\n",
    "# esport_clean = df[~duplicated_headers]\n",
    "\n",
    "hedar_line = df.iloc[0]\n",
    "# print(hedar_line)\n",
    "\n",
    "export_descr = {\n",
    "    \"name\": { \"value\": hedar_line['Nom competition'] , \"idx\": 0},\n",
    "    \"comp_type\": { \"value\": df[df['Calcul'] != 'Calcul']['Calcul'].unique() , \"idx\": 0},\n",
    "    \"scrore_type\": { \"value\": df[df['Calcul'] != 'Calcul']['Calcul'].unique() , \"idx\": 0}\n",
    "}\n",
    "\n",
    "print(\"Competition name : \", export_descr)\n",
    "\n",
    "\n",
    "print(\"Competition name : \", export_descr['name'].get(\"value\"))\n",
    "print(\"Competition type : \", export_descr['comp_type'].get(\"value\"))\n"
   ]
  },
  {
   "cell_type": "markdown",
   "metadata": {},
   "source": [
    "Stats"
   ]
  },
  {
   "cell_type": "code",
   "execution_count": null,
   "metadata": {},
   "outputs": [
    {
     "name": "stdout",
     "output_type": "stream",
     "text": [
      "{'headerCount': 9, 'playerCount': 186}\n"
     ]
    },
    {
     "data": {
      "image/png": "[encoded data removed]",
      "text/plain": [
       "<Figure size 640x480 with 1 Axes>"
      ]
     },
     "metadata": {},
     "output_type": "display_data"
    }
   ],
   "source": [
    "colCompetiton = df['Nom competition'].value_counts()\n",
    "colCompetiton.plot(kind='bar')\n",
    "\n",
    "stats_count = {\n",
    "    \"headerCount\":colCompetiton['Nom competition'],\n",
    "    \"playerCount\":colCompetiton[competion_name]\n",
    "    }\n",
    "\n",
    "print(stats_count)"
   ]
  },
  {
   "cell_type": "code",
   "execution_count": null,
   "metadata": {},
   "outputs": [],
   "source": [
    "result_list = df[df['Nom competition'].str.contains('DIMANCHE 13, 18 TROUS GRANDE SEMAINE', case=False)]\n",
    "#print(df['Nom competition'])"
   ]
  },
  {
   "cell_type": "code",
   "execution_count": 5,
   "metadata": {},
   "outputs": [
    {
     "name": "stdout",
     "output_type": "stream",
     "text": [
      "        A       B       C\n",
      "0       1       4       7\n",
      "1       2       5       8\n",
      "2       3       6       9\n",
      "3  header  header  header\n"
     ]
    }
   ],
   "source": [
    "# Exemple de DataFrame avec des doublons de lignes de header\n",
    "data = {\n",
    "    'A': [1, 2, 3, 'header', 1, 2, 3],\n",
    "    'B': [4, 5, 6, 'header', 4, 5, 6],\n",
    "    'C': [7, 8, 9, 'header', 7, 8, 9]\n",
    "}\n",
    "\n",
    "df = pd.DataFrame(data)\n",
    "\n",
    "# Identifier les doublons, en gardant la première occurrence\n",
    "# `keep='first'` signifie que la première occurrence sera conservée\n",
    "duplicated_rows = df.duplicated(keep='first')\n",
    "\n",
    "# Supprimer les lignes en double\n",
    "df_cleaned = df[~duplicated_rows]\n",
    "\n",
    "print(df_cleaned)"
   ]
  }
 ],
 "metadata": {
  "kernelspec": {
   "display_name": "Python 3",
   "language": "python",
   "name": "python3"
  },
  "language_info": {
   "codemirror_mode": {
    "name": "ipython",
    "version": 3
   },
   "file_extension": ".py",
   "mimetype": "text/x-python",
   "name": "python",
   "nbconvert_exporter": "python",
   "pygments_lexer": "ipython3",
   "version": "3.12.2"
  }
 },
 "nbformat": 4,
 "nbformat_minor": 2
}
